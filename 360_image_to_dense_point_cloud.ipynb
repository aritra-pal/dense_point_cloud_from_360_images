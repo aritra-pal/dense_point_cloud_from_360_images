{
 "cells": [
  {
   "cell_type": "markdown",
   "metadata": {},
   "source": [
    "## Set project path"
   ]
  },
  {
   "cell_type": "code",
   "execution_count": null,
   "metadata": {},
   "outputs": [],
   "source": [
    "#Keep the 360 video file wihin the project path\n",
    "PROJECT_PATH = \"/home/aritra/360_point_cloud/fengyu_220114_1f\"\n",
    "video_file_name = \"VID_20220114_160120_00_035.mp4\""
   ]
  },
  {
   "cell_type": "markdown",
   "metadata": {},
   "source": [
    "## Extract frames from the video"
   ]
  },
  {
   "cell_type": "code",
   "execution_count": null,
   "metadata": {},
   "outputs": [],
   "source": [
    "import sys\n",
    "import argparse\n",
    "import cv2\n",
    "import os\n",
    "print(cv2.__version__)\n",
    "\n",
    "def extractImages(pathIn, pathOut):\n",
    "    vidcap = cv2.VideoCapture(pathIn)\n",
    "    success,image = vidcap.read()\n",
    "    count = 0\n",
    "    success = True\n",
    "    while success:\n",
    "      vidcap.set(cv2.CAP_PROP_POS_MSEC,(count*1000))    # for 1 frame in 1 sec.\n",
    "      #vidcap.set(cv2.CAP_PROP_POS_MSEC,(count*1000*4))   # for 1 frame in 4 sec\n",
    "      success,image = vidcap.read()\n",
    "      print ('Read a new frame: ', success)\n",
    "      cv2.imwrite( pathOut + \"/%#05d.jpg\" % count, image)     # save frame as JPEG file\n",
    "      count += 1 # change counter for increase or decrease the number of frame\n",
    "\n",
    "\n",
    "input_path = os.path.join(PROJECT_PATH,video_file_name)\n",
    "!mkdir $PROJECT_PATH/images\n",
    "output_path = os.path.join(PROJECT_PATH,\"images\")\n",
    "extractImages(input_path, output_path)"
   ]
  },
  {
   "cell_type": "markdown",
   "metadata": {},
   "source": [
    "## Extract Metadata"
   ]
  },
  {
   "cell_type": "code",
   "execution_count": null,
   "metadata": {
    "scrolled": true
   },
   "outputs": [],
   "source": [
    "! /home/aritra/OpenSfM/bin/opensfm extract_metadata $PROJECT_PATH"
   ]
  },
  {
   "cell_type": "markdown",
   "metadata": {},
   "source": [
    "## Modify \"camera_models.json\" file\n",
    "For equirectangular images"
   ]
  },
  {
   "cell_type": "code",
   "execution_count": null,
   "metadata": {},
   "outputs": [],
   "source": [
    "import json\n",
    "import os\n",
    "f = open(os.path.join(PROJECT_PATH, 'camera_models.json'))\n",
    "data = json.load(f)\n",
    "#data[\"all\"] = data.pop(list(data.keys())[0])\n",
    "key = str(list(data.keys())[0])\n",
    "print(key)\n",
    "data[key][\"projection_type\"] = \"equirectangular\"\n",
    "del data[key][\"focal\"]\n",
    "del data[key][\"k1\"]\n",
    "del data[key][\"k2\"]\n",
    "print(data)\n",
    "with open(os.path.join(PROJECT_PATH, 'camera_models.json'), \"w\") as outfile:\n",
    "    json.dump(data, outfile,indent =2)"
   ]
  },
  {
   "cell_type": "markdown",
   "metadata": {},
   "source": [
    "## Run OpenSfM commands for creating point clouds"
   ]
  },
  {
   "cell_type": "code",
   "execution_count": null,
   "metadata": {},
   "outputs": [],
   "source": [
    "! /home/aritra/OpenSfM/bin/opensfm detect_features $PROJECT_PATH\n",
    "! /home/aritra/OpenSfM/bin/opensfm match_features $PROJECT_PATH\n",
    "! /home/aritra/OpenSfM/bin/opensfm create_tracks $PROJECT_PATH\n",
    "! /home/aritra/OpenSfM/bin/opensfm reconstruct $PROJECT_PATH\n",
    "! /home/aritra/OpenSfM/bin/opensfm bundle $PROJECT_PATH\n",
    "! /home/aritra/OpenSfM/bin/opensfm undistort $PROJECT_PATH\n",
    "! /home/aritra/OpenSfM/bin/opensfm compute_depthmaps $PROJECT_PATH"
   ]
  },
  {
   "cell_type": "markdown",
   "metadata": {},
   "source": [
    "## Extract Metadata and Detect Features for undistorted perspective images"
   ]
  },
  {
   "cell_type": "code",
   "execution_count": null,
   "metadata": {},
   "outputs": [],
   "source": [
    "! /home/aritra/OpenSfM/bin/opensfm extract_metadata $PROJECT_PATH/undistorted\n",
    "! /home/aritra/OpenSfM/bin/opensfm detect_features $PROJECT_PATH/undistorted"
   ]
  },
  {
   "cell_type": "markdown",
   "metadata": {},
   "source": [
    "## Create a \"camera_models.json\" file for perspective images"
   ]
  },
  {
   "cell_type": "code",
   "execution_count": null,
   "metadata": {},
   "outputs": [],
   "source": [
    "f = open(os.path.join(PROJECT_PATH , \"undistorted\", 'camera_models.json'))\n",
    "data = json.load(f)\n",
    "data1 = data.copy()\n",
    "data1[\"perspective_panorama_camera\"] = data1.pop(list(data1.keys())[0])\n",
    "\n",
    "data2 = {**data1, **data}\n",
    "print(data2)\n",
    "\n",
    "with open(os.path.join(PROJECT_PATH, \"undistorted\", 'camera_models.json'), \"w\") as outfile:\n",
    "    json.dump(data2, outfile, indent =2)"
   ]
  },
  {
   "cell_type": "markdown",
   "metadata": {},
   "source": [
    "## Export the sparse point cloud into colmap format"
   ]
  },
  {
   "cell_type": "code",
   "execution_count": null,
   "metadata": {},
   "outputs": [],
   "source": [
    "! /home/aritra/OpenSfM/bin/opensfm export_colmap $PROJECT_PATH/undistorted"
   ]
  },
  {
   "cell_type": "markdown",
   "metadata": {},
   "source": [
    "## Create dense folder for colmap reconstruction & Undistort images"
   ]
  },
  {
   "cell_type": "code",
   "execution_count": null,
   "metadata": {},
   "outputs": [],
   "source": [
    "!mkdir $PROJECT_PATH/undistorted/colmap_dense\n",
    "!colmap image_undistorter\\\n",
    "    --image_path $PROJECT_PATH/undistorted/images\\\n",
    "    --input_path $PROJECT_PATH/undistorted/colmap_export\\\n",
    "    --output_path $PROJECT_PATH/undistorted/colmap_dense"
   ]
  },
  {
   "cell_type": "markdown",
   "metadata": {},
   "source": [
    "## Colmap stereo matching"
   ]
  },
  {
   "cell_type": "code",
   "execution_count": null,
   "metadata": {},
   "outputs": [],
   "source": [
    "!colmap patch_match_stereo\\\n",
    "    --workspace_path $PROJECT_PATH/undistorted/colmap_dense\\\n",
    "    --workspace_format COLMAP \\\n",
    "    --PatchMatchStereo.max_image_size 3840 \\\n",
    "    --PatchMatchStereo.window_radius 9 \\\n",
    "    --PatchMatchStereo.geom_consistency true \\\n",
    "    --PatchMatchStereo.filter_min_ncc 0.07\\\n",
    "    --PatchMatchStereo.depth_min 0.0 \\\n",
    "    --PatchMatchStereo.depth_max 20.0"
   ]
  },
  {
   "cell_type": "markdown",
   "metadata": {},
   "source": [
    "## Colmap stereo fusion"
   ]
  },
  {
   "cell_type": "code",
   "execution_count": null,
   "metadata": {
    "scrolled": true
   },
   "outputs": [],
   "source": [
    "!colmap stereo_fusion\\\n",
    "    --workspace_path $PROJECT_PATH/undistorted/colmap_dense\\\n",
    "    --output_path $PROJECT_PATH/undistorted/colmap_dense/fused.ply"
   ]
  },
  {
   "cell_type": "markdown",
   "metadata": {},
   "source": [
    "## Merge Colmap point cloud and mvs point cloud for denser one\n",
    "At present this doesnot work for creating a colored point cloud. However, It can output a denser point cloud"
   ]
  },
  {
   "cell_type": "code",
   "execution_count": null,
   "metadata": {},
   "outputs": [],
   "source": [
    "import open3d as o3d\n",
    "import numpy as np\n",
    "pcd1 = o3d.io.read_point_cloud(os.path.join(PROJECT_PATH,\"/undistorted/depthmaps/merged.ply\"))\n",
    "p1_load = np.asarray(pcd1.points)\n",
    "pcd2 = o3d.io.read_point_cloud(os.path.join(PROJECT_PATH,\"/undistorted/colmap_dense/fused.ply\"))\n",
    "p2_load = np.asarray(pcd2.points)\n",
    "#print(p2_load)\n",
    "p3_load = np.concatenate((p1_load,p2_load), axis=0)\n",
    "p1_color = np.asarray(pcd1.colors)\n",
    "p2_color = np.asarray(pcd2.colors)\n",
    "p3_color = np.concatenate((p1_color,p2_color), axis=0)\n",
    "print(p3_color)\n",
    "\n",
    "pcd = o3d.geometry.PointCloud()\n",
    "pcd.points = o3d.utility.Vector3dVector(p3_load)\n",
    "pcd.colors = o3d.utility.Vector3dVector(p3_color)\n",
    "#print(np.asarray(pcd.points))\n",
    "#print(np.asarray(pcd.colors))\n",
    "o3d.io.write_point_cloud(os.path.join(PROJECT_PATH,\"dense.ply\"), pcd)"
   ]
  },
  {
   "cell_type": "code",
   "execution_count": null,
   "metadata": {},
   "outputs": [],
   "source": []
  }
 ],
 "metadata": {
  "kernelspec": {
   "display_name": "Python 3",
   "language": "python",
   "name": "python3"
  },
  "language_info": {
   "codemirror_mode": {
    "name": "ipython",
    "version": 3
   },
   "file_extension": ".py",
   "mimetype": "text/x-python",
   "name": "python",
   "nbconvert_exporter": "python",
   "pygments_lexer": "ipython3",
   "version": "3.8.5"
  }
 },
 "nbformat": 4,
 "nbformat_minor": 4
}
